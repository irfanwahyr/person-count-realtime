{
 "cells": [
  {
   "cell_type": "code",
   "execution_count": 1,
   "metadata": {},
   "outputs": [],
   "source": [
    "import cv2\n",
    "from ultralytics import YOLO"
   ]
  },
  {
   "cell_type": "code",
   "execution_count": 2,
   "metadata": {},
   "outputs": [
    {
     "name": "stdout",
     "output_type": "stream",
     "text": [
      "Downloading https://github.com/ultralytics/assets/releases/download/v8.2.0/yolov8n.pt to 'yolov8n.pt'...\n"
     ]
    },
    {
     "name": "stderr",
     "output_type": "stream",
     "text": [
      "100%|██████████| 6.25M/6.25M [00:10<00:00, 612kB/s]\n"
     ]
    }
   ],
   "source": [
    "# Load YOLOv8 model\n",
    "model = YOLO('yolov8n.pt')  # Use 'yolov8n.pt' for the YOLOv8 Nano model"
   ]
  },
  {
   "cell_type": "code",
   "execution_count": 4,
   "metadata": {},
   "outputs": [],
   "source": [
    "# Function to count people in an image\n",
    "def count_people(image_path):\n",
    "    # Load image\n",
    "    image = cv2.imread(image_path)\n",
    "    if image is None:\n",
    "        print(\"Image not found!\")\n",
    "        return\n",
    "\n",
    "    # Perform object detection\n",
    "    results = model(image)\n",
    "\n",
    "    # Filter results to include only 'person' class\n",
    "    person_class_id = 0  # COCO class ID for 'person'\n",
    "    person_detections = [d for d in results[0].boxes.data if d[5] == person_class_id]\n",
    "\n",
    "    # Count number of people detected\n",
    "    num_people = len(person_detections)\n",
    "\n",
    "    # Draw bounding boxes around detected people\n",
    "    for detection in person_detections:\n",
    "        x1, y1, x2, y2 = map(int, detection[:4])\n",
    "        cv2.rectangle(image, (x1, y1), (x2, y2), (255, 0, 0), 2)\n",
    "        cv2.putText(image, 'Person', (x1, y1 - 10), cv2.FONT_HERSHEY_SIMPLEX, 0.9, (255, 0, 0), 2)\n",
    "\n",
    "    # Display image with detections\n",
    "    cv2.imshow('People Counter', image)\n",
    "    cv2.waitKey(0)\n",
    "    cv2.destroyAllWindows()\n",
    "\n",
    "    # Return the count of people detected\n",
    "    return num_people"
   ]
  },
  {
   "cell_type": "code",
   "execution_count": 5,
   "metadata": {},
   "outputs": [
    {
     "name": "stderr",
     "output_type": "stream",
     "text": [
      "e:\\Portfolio-AI-Project\\.env\\Lib\\site-packages\\torch\\cuda\\__init__.py:118: UserWarning: CUDA initialization: The NVIDIA driver on your system is too old (found version 11070). Please update your GPU driver by downloading and installing a new version from the URL: http://www.nvidia.com/Download/index.aspx Alternatively, go to: https://pytorch.org to install a PyTorch version that has been compiled with your version of the CUDA driver. (Triggered internally at ..\\c10\\cuda\\CUDAFunctions.cpp:108.)\n",
      "  return torch._C._cuda_getDeviceCount() > 0\n"
     ]
    },
    {
     "name": "stdout",
     "output_type": "stream",
     "text": [
      "\n",
      "0: 416x640 3 persons, 4 cars, 3 motorcycles, 218.9ms\n",
      "Speed: 15.6ms preprocess, 218.9ms inference, 15.6ms postprocess per image at shape (1, 3, 416, 640)\n",
      "Number of people detected: 3\n"
     ]
    }
   ],
   "source": [
    "# Example usage\n",
    "image_path = 'tes.png'\n",
    "print(f'Number of people detected: {count_people(image_path)}')"
   ]
  }
 ],
 "metadata": {
  "kernelspec": {
   "display_name": ".env",
   "language": "python",
   "name": "python3"
  },
  "language_info": {
   "codemirror_mode": {
    "name": "ipython",
    "version": 3
   },
   "file_extension": ".py",
   "mimetype": "text/x-python",
   "name": "python",
   "nbconvert_exporter": "python",
   "pygments_lexer": "ipython3",
   "version": "3.11.5"
  }
 },
 "nbformat": 4,
 "nbformat_minor": 2
}
